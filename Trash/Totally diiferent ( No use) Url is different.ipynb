{
 "cells": [
  {
   "cell_type": "code",
   "execution_count": 1,
   "id": "06de544e",
   "metadata": {},
   "outputs": [],
   "source": [
    "# Url is different and code is different. is short i forgot to put main url. \n",
    "\n",
    "\n",
    "import requests\n",
    "from bs4 import BeautifulSoup\n",
    "\n",
    "#baseurl = 'https://www.flipkart.com'\n",
    "\n",
    "# headers={\n",
    "#     'User-Agent': 'Mozilla/5.0 (Linux; Android 13; SM-S901U Build/TP1A.220624.014) AppleWebKit/537.36 (KHTML, like Gecko) Version/4.0 Chrome/112.0.5615.136 Mobile Safari/537.36 Blackboard/unspecified'\n",
    "# }\n",
    "\n",
    "r = requests.get('https://insights.blackcoffer.com/ml-and-ai-based-insurance-premium-model-to-predict-premium-to-be-charged-by-the-insurance-company/')\n",
    "\n",
    "soup = BeautifulSoup(r.content, 'lxml')\n",
    "\n",
    "titlename = soup.find_all('div', class_='entry-title')\n",
    "productprice = soup.find_all('div', class_ = \"wp-block-heading\")\n",
    "\n",
    "\n",
    "productlinks = []\n",
    "price = []\n",
    "\n",
    "for product,price in zip(titlename,productprice):\n",
    "            title_name = product.text\n",
    "            product_price = price.text\n",
    "           \n",
    "\n",
    "            print(title_name,product_price)\n",
    "\n"
   ]
  },
  {
   "cell_type": "code",
   "execution_count": null,
   "id": "93c998d7",
   "metadata": {},
   "outputs": [],
   "source": []
  },
  {
   "cell_type": "code",
   "execution_count": null,
   "id": "65d5f450",
   "metadata": {},
   "outputs": [],
   "source": []
  },
  {
   "cell_type": "code",
   "execution_count": null,
   "id": "0743416e",
   "metadata": {},
   "outputs": [],
   "source": []
  }
 ],
 "metadata": {
  "kernelspec": {
   "display_name": "Python 3 (ipykernel)",
   "language": "python",
   "name": "python3"
  },
  "language_info": {
   "codemirror_mode": {
    "name": "ipython",
    "version": 3
   },
   "file_extension": ".py",
   "mimetype": "text/x-python",
   "name": "python",
   "nbconvert_exporter": "python",
   "pygments_lexer": "ipython3",
   "version": "3.11.0"
  }
 },
 "nbformat": 4,
 "nbformat_minor": 5
}
